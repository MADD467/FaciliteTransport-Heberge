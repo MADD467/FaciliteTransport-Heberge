{
  "nbformat": 4,
  "nbformat_minor": 0,
  "metadata": {
    "colab": {
      "provenance": [],
      "authorship_tag": "ABX9TyO4tBO3fEyE2ATSoNyxaMcD",
      "include_colab_link": true
    },
    "kernelspec": {
      "name": "python3",
      "display_name": "Python 3"
    },
    "language_info": {
      "name": "python"
    }
  },
  "cells": [
    {
      "cell_type": "markdown",
      "metadata": {
        "id": "view-in-github",
        "colab_type": "text"
      },
      "source": [
        "<a href=\"https://colab.research.google.com/github/MADD467/FaciliteTransport-Heberge/blob/main/Authentification(fait_en_solo).ipynb\" target=\"_parent\"><img src=\"https://colab.research.google.com/assets/colab-badge.svg\" alt=\"Open In Colab\"/></a>"
      ]
    },
    {
      "cell_type": "code",
      "execution_count": null,
      "metadata": {
        "id": "rLMMBSHzP558"
      },
      "outputs": [],
      "source": [
        "#Subscription\n",
        "\n",
        "name = str(input(\"Enter your name: \"))\n",
        "last_name = str(input(\"Enter your last name: \"))\n",
        "email = input(\"Enter your email: \")\n",
        "username = input(\"Choose a username: \")\n",
        "password = input(\"Choose a password: \")\n",
        "\n",
        "# Log in\n",
        "\n",
        "username_chosen = input(\"Enter your Username: \")\n",
        "password_chosen = input(\"Enter your password: \")\n",
        "\n",
        "if username_chosen == username:\n",
        "  print(\"Bienvenue\", username)\n",
        "elif password_chosen == password:\n",
        "  print(\"Bienvenue\", username)\n",
        "else:\n",
        "  print(\"Le Username ou le Password est incorrect\")\n"
      ]
    },
    {
      "cell_type": "code",
      "source": [
        "\n",
        "\n"
      ],
      "metadata": {
        "id": "OW61tmgybmFK"
      },
      "execution_count": null,
      "outputs": []
    }
  ]
}